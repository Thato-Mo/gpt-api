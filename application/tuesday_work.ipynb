{
 "cells": [
  {
   "cell_type": "code",
   "execution_count": 1,
   "id": "eb77bee3-80c6-4b08-ad40-317bc6674104",
   "metadata": {},
   "outputs": [
    {
     "name": "stdout",
     "output_type": "stream",
     "text": [
      "hello\n"
     ]
    }
   ],
   "source": [
    "print(\"hello\")"
   ]
  },
  {
   "cell_type": "code",
   "execution_count": 2,
   "id": "c55435e1-8c83-4502-973c-0e42fc8fbc5f",
   "metadata": {},
   "outputs": [
    {
     "data": {
      "text/plain": [
       "'/home/philip/src/gpt-api/application'"
      ]
     },
     "execution_count": 2,
     "metadata": {},
     "output_type": "execute_result"
    }
   ],
   "source": [
    "pwd"
   ]
  },
  {
   "cell_type": "code",
   "execution_count": 7,
   "id": "f25f406f-c602-469e-89de-1d35a6c098ca",
   "metadata": {},
   "outputs": [],
   "source": [
    "from keys import *"
   ]
  },
  {
   "cell_type": "code",
   "execution_count": 8,
   "id": "9b14bf71-15bf-419d-a5ba-56e50bca1809",
   "metadata": {},
   "outputs": [],
   "source": [
    "import requests\n",
    "import sys\n",
    "from keys import *\n",
    "from pdf_input import *"
   ]
  },
  {
   "cell_type": "code",
   "execution_count": 9,
   "id": "f57c7d97-8f75-4b5c-8559-91280ae62330",
   "metadata": {},
   "outputs": [],
   "source": [
    "api_url = \"https://api.openai.com/v1/chat/completions\""
   ]
  },
  {
   "cell_type": "code",
   "execution_count": 12,
   "id": "0db649f4-a060-4618-8d88-18065884b624",
   "metadata": {},
   "outputs": [],
   "source": [
    "headers = {\n",
    "        \"Authorization\": f\"Bearer {london_key}\",\n",
    "        \"Content-Type\": \"application/json\"\n",
    "    }"
   ]
  },
  {
   "cell_type": "code",
   "execution_count": 13,
   "id": "2592a75b-eb82-413a-9f09-1d13e9150b86",
   "metadata": {},
   "outputs": [],
   "source": [
    "def api_call(arg):\n",
    "    response = requests.post(api_url, headers=headers, json=arg)\n",
    "    print(response)"
   ]
  },
  {
   "cell_type": "code",
   "execution_count": 14,
   "id": "147b47bf-e9b2-4417-933b-44033440f34e",
   "metadata": {},
   "outputs": [],
   "source": [
    "params = {\n",
    "     \"model\": \"gpt-3.5-turbo\",\n",
    "     \"messages\": [{\"role\": \"user\", \"content\": f\"What day is today?\"}],\n",
    "     \"temperature\": 0.7\n",
    "    }"
   ]
  },
  {
   "cell_type": "code",
   "execution_count": 17,
   "id": "c1c61027-33d8-4a7f-b358-5c0b6423357b",
   "metadata": {},
   "outputs": [
    {
     "name": "stdout",
     "output_type": "stream",
     "text": [
      "<Response [200]>\n"
     ]
    }
   ],
   "source": [
    "api_call(params)"
   ]
  },
  {
   "cell_type": "code",
   "execution_count": 18,
   "id": "513e747f-f60b-42f7-b57a-7a4a24830087",
   "metadata": {},
   "outputs": [],
   "source": [
    "def api_call(arg):\n",
    "    response = requests.post(api_url, headers=headers, json=arg)\n",
    "    if response.status_code == 200:\n",
    "        content = response.json()['choices'][0]['message']['content']\n",
    "    print(content)"
   ]
  },
  {
   "cell_type": "code",
   "execution_count": 19,
   "id": "0bc8ac24-d902-4286-af62-072aa9d84db6",
   "metadata": {},
   "outputs": [
    {
     "name": "stdout",
     "output_type": "stream",
     "text": [
      "I'm sorry, I am an AI language model and do not have access to real-time information. Please check the current date on your device or by referring to a reliable source.\n"
     ]
    }
   ],
   "source": [
    "api_call(params)"
   ]
  },
  {
   "cell_type": "code",
   "execution_count": null,
   "id": "c87343c2-aee8-4624-9cb9-110265972266",
   "metadata": {},
   "outputs": [],
   "source": []
  }
 ],
 "metadata": {
  "kernelspec": {
   "display_name": "Python 3 (ipykernel)",
   "language": "python",
   "name": "python3"
  },
  "language_info": {
   "codemirror_mode": {
    "name": "ipython",
    "version": 3
   },
   "file_extension": ".py",
   "mimetype": "text/x-python",
   "name": "python",
   "nbconvert_exporter": "python",
   "pygments_lexer": "ipython3",
   "version": "3.10.12"
  }
 },
 "nbformat": 4,
 "nbformat_minor": 5
}
